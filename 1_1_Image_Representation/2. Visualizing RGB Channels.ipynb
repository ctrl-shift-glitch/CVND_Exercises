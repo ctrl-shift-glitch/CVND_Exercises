{
 "cells": [
  {
   "cell_type": "markdown",
   "metadata": {},
   "source": [
    "# RGB colorspace"
   ]
  },
  {
   "cell_type": "markdown",
   "metadata": {},
   "source": [
    "### Import resources"
   ]
  },
  {
   "cell_type": "code",
   "execution_count": 1,
   "metadata": {},
   "outputs": [],
   "source": [
    "import matplotlib.pyplot as plt\n",
    "import matplotlib.image as mpimg\n",
    "\n",
    "%matplotlib qt"
   ]
  },
  {
   "cell_type": "markdown",
   "metadata": {},
   "source": [
    "### Read in an image"
   ]
  },
  {
   "cell_type": "code",
   "execution_count": null,
   "metadata": {},
   "outputs": [
    {
     "name": "stdout",
     "output_type": "stream",
     "text": [
      "(4700, 3)\n",
      "[[113 155 195]\n",
      " [113 155 195]\n",
      " [112 154 194]\n",
      " ..., \n",
      " [ 44  46  33]\n",
      " [ 42  44  31]\n",
      " [ 41  43  30]]\n"
     ]
    },
    {
     "data": {
      "image/png": "[encoded data removed]",
      "text/plain": [
       "<matplotlib.figure.Figure at 0x1ef52b6d940>"
      ]
     },
     "metadata": {
      "needs_background": "light"
     },
     "output_type": "display_data"
    }
   ],
   "source": [
    "# Read in the image\n",
    "image = mpimg.imread('images/wa_state_highway.jpg')\n",
    "\n",
    "print(image.shape)\n",
    "print(image)\n",
    "# List 1 - Contains R G B values of a pixel\n",
    "# List 2 - Contains 4700 List 1's. Meaning an entire row of 4700 columns\n",
    "# List 3 - Contains 3088 List 2's. Meaning 3088 rows in an image\n",
    "\n",
    "\n",
    "plt.imshow(image)\n",
    "plt.show(block=False)\n",
    "plt.pause(500)"
   ]
  },
  {
   "cell_type": "markdown",
   "metadata": {},
   "source": [
    "### RGB channels \n",
    "\n",
    "Visualize the levels of each color channel. Pay close attention to the traffic signs!"
   ]
  },
  {
   "cell_type": "code",
   "execution_count": null,
   "metadata": {},
   "outputs": [],
   "source": [
    "# Isolate RGB channels\n",
    "r = image[:,:,0] #First value of inner most list [R 0 0]\n",
    "g = image[:,:,1] #Second value of inner most list [0 G 0]\n",
    "b = image[:,:,2] #Third value of inner most list [0 0 B]\n",
    "\n",
    "# Visualize the individual color channels\n",
    "f, (ax1, ax2, ax3) = plt.subplots(1, 3, figsize=(20,10))\n",
    "ax1.set_title('R channel')\n",
    "ax1.imshow(r, cmap='gray')\n",
    "ax2.set_title('G channel')\n",
    "ax2.imshow(g, cmap='gray')\n",
    "ax3.set_title('B channel')\n",
    "ax3.imshow(b, cmap='gray')\n",
    "\n",
    "## Which area has the lowest value for red? What about for blue?"
   ]
  },
  {
   "cell_type": "code",
   "execution_count": null,
   "metadata": {},
   "outputs": [],
   "source": []
  }
 ],
 "metadata": {
  "anaconda-cloud": {},
  "kernelspec": {
   "display_name": "Python 3",
   "language": "python",
   "name": "python3"
  },
  "language_info": {
   "codemirror_mode": {
    "name": "ipython",
    "version": 3
   },
   "file_extension": ".py",
   "mimetype": "text/x-python",
   "name": "python",
   "nbconvert_exporter": "python",
   "pygments_lexer": "ipython3",
   "version": "3.6.10"
  }
 },
 "nbformat": 4,
 "nbformat_minor": 4
}
